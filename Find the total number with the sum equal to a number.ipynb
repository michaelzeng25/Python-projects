{
 "cells": [
  {
   "cell_type": "code",
   "execution_count": null,
   "metadata": {},
   "outputs": [],
   "source": [
    "For example,\n",
    "\n",
    "1,2,3,4,5,6,7\n",
    "\n",
    "how many combinations can 1,2,3,4,5,6 sum to 7?\n",
    "\n",
    "1,2,4\n",
    "2,5\n",
    "3,4\n",
    "1,6\n",
    "\n",
    "\n",
    "itertools.combinations(the list, the number represent the number combinations)"
   ]
  },
  {
   "cell_type": "code",
   "execution_count": 9,
   "metadata": {},
   "outputs": [
    {
     "name": "stdout",
     "output_type": "stream",
     "text": [
      "Enter a number: 7\n",
      "the list:  [1, 2, 3, 4, 5, 6, 7]\n",
      "1 6\n",
      "2 5\n",
      "3 4\n",
      "1 2 4\n",
      "\n",
      "\n",
      "The number of the numbers with the sum = 7 is 4\n"
     ]
    }
   ],
   "source": [
    "import itertools\n",
    "n =int(input(\"Enter a number: \"))\n",
    "count=0\n",
    "li = [x for x in range(1,n+1)]\n",
    "print(\"the list: \",li)\n",
    "\n",
    "for L in range(2, len(li)):\n",
    "    for subset in itertools.combinations(li, L):\n",
    "        if(sum(subset))== li[n-1]:\n",
    "            print(*subset)\n",
    "            count = count+1\n",
    "print('\\n')\n",
    "print(\"The number of the numbers with the sum = %s is %s\"%(n, count))"
   ]
  },
  {
   "cell_type": "code",
   "execution_count": null,
   "metadata": {},
   "outputs": [],
   "source": []
  }
 ],
 "metadata": {
  "kernelspec": {
   "display_name": "Python 3",
   "language": "python",
   "name": "python3"
  },
  "language_info": {
   "codemirror_mode": {
    "name": "ipython",
    "version": 3
   },
   "file_extension": ".py",
   "mimetype": "text/x-python",
   "name": "python",
   "nbconvert_exporter": "python",
   "pygments_lexer": "ipython3",
   "version": "3.6.4"
  }
 },
 "nbformat": 4,
 "nbformat_minor": 2
}
