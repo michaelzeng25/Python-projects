{
 "cells": [
  {
   "cell_type": "markdown",
   "metadata": {},
   "source": [
    "# Have written the code in C++ long time ago, but lets just write it in Python as a practice."
   ]
  },
  {
   "cell_type": "markdown",
   "metadata": {},
   "source": [
    "Link to my code in C++: \n",
    "https://github.com/michaelzeng25/CPlusPlus-Algorithm-and-Data-Structure/blob/master/Sorting-Algorithms/Sorting%20Algorithm"
   ]
  },
  {
   "cell_type": "code",
   "execution_count": 154,
   "metadata": {},
   "outputs": [
    {
     "name": "stdout",
     "output_type": "stream",
     "text": [
      "Please enter 2 numbers from small to large:5 45\n",
      "the size of the population is : 40\n",
      "your list will contain 40 unique numbers.\n",
      "[17, 40, 38, 20, 43, 39, 37, 26, 11, 25, 35, 14, 29, 34, 31, 18, 8, 19, 33, 32, 36, 24, 42, 9, 13, 16, 23, 6, 5, 21, 15, 44, 10, 28, 41, 12, 30, 7, 27, 22]\n"
     ]
    }
   ],
   "source": [
    "#generate random numbers that are all different\n",
    "import random\n",
    "# Choose the range of the numbers.\n",
    "a,b = map(int, input(\"Please enter 2 numbers from small to large:\").split())\n",
    "p = b-a\n",
    "print(\"the size of the population is :\",p)\n",
    "print(\"your list will contain %s unique numbers.\"% p)\n",
    "l = random.sample(range(a,b),b-a) # sample size \"b-a\" can not > the len of the population\n",
    "print(l)"
   ]
  },
  {
   "cell_type": "code",
   "execution_count": 155,
   "metadata": {},
   "outputs": [
    {
     "name": "stdout",
     "output_type": "stream",
     "text": [
      "The elements in the list are all unique, indeed.\n"
     ]
    }
   ],
   "source": [
    "if len(l) > len(set(l)):\n",
    "    print(\"Something is so wronggggggg.\")\n",
    "else:\n",
    "    print(\"The elements in the list are all unique, indeed.\")"
   ]
  },
  {
   "cell_type": "markdown",
   "metadata": {},
   "source": [
    "# Bubble Sort"
   ]
  },
  {
   "cell_type": "code",
   "execution_count": null,
   "metadata": {},
   "outputs": [],
   "source": [
    "# Example\n",
    "l = [3,1,5,4,2]\n",
    "steps in bubble sort:\n",
    "\n",
    "first run:\n",
    "1,3,5,4,2 -- compare[0] and [1]\n",
    "1,3,5,4,2 -- compare [1] and [2]\n",
    "1,3,4,5,2 -- and so on\n",
    "1,3,4,2,5\n",
    "\n",
    "\n",
    "l=[1,3,4,2,5]\n",
    "second run:\n",
    "1,3,4,2,5 -- compare[0] and [1] steps are repeatitive. \n",
    "1,3,4,2,5\n",
    "1,3,2,4,5\n",
    "1,3,2,4,5\n",
    "\n",
    "and so on. The time complexity is 0(n^2)"
   ]
  },
  {
   "cell_type": "code",
   "execution_count": 156,
   "metadata": {},
   "outputs": [
    {
     "name": "stdout",
     "output_type": "stream",
     "text": [
      "The list is sorted successfuly.\n",
      "[5, 6, 7, 8, 9, 10, 11, 12, 13, 14, 15, 16, 17, 18, 19, 20, 21, 22, 23, 24, 25, 26, 27, 28, 29, 30, 31, 32, 33, 34, 35, 36, 37, 38, 39, 40, 41, 42, 43, 44]\n"
     ]
    }
   ],
   "source": [
    "def BubbleSort(l2):\n",
    "    for x in range(len(l2)):\n",
    "        for y in range(len(l2)-1):\n",
    "            if(l2[y] > l2[y+1]):\n",
    "                temp = l2[y+1]\n",
    "                l2[y+1] = l2[y]\n",
    "                l2[y] = temp\n",
    "                \n",
    "    for x in range(len(l2)-1):\n",
    "        if(l2[x+1]<l2[x]):\n",
    "            print(\"the list is not sorted correctly.\")\n",
    "            return\n",
    "\n",
    "    print(\"The list is sorted successfuly.\")\n",
    "    print(l2) \n",
    "    \n",
    "l2 = [x for x in l]\n",
    "BubbleSort(l2)\n",
    "        "
   ]
  },
  {
   "cell_type": "markdown",
   "metadata": {},
   "source": [
    "# Insertion Sort"
   ]
  },
  {
   "cell_type": "code",
   "execution_count": null,
   "metadata": {},
   "outputs": [],
   "source": [
    "# Example\n",
    "l = [3,2,5,4,1]\n",
    "\n",
    "is l[1] < l[0]? -- 2<3? -- yes\n",
    "then\n",
    "temp=l[1]=2\n",
    "index = 1\n",
    "\n",
    "is index>0 and 1[index-1]>temp? -- 1>0 and 3>2? -- yes\n",
    "then\n",
    "l[index] = l[index-1] -- the list will be =  3,3,5,4,1\n",
    "index = index -1 -- index now =0\n",
    "\n",
    "is index>0 and 1[index-1]>temp? -- 0>0 and -1>2? -- no\n",
    "then\n",
    "l[index] = temp -- l[0] =temp -- the list will be = 2,3,5,4,1\n",
    "\n",
    "\n",
    "l = [2,3,5,4,1]\n",
    "again\n",
    "\n",
    "\n",
    "is l[2] < l[1] -- is 5<3? -- No\n",
    "\n",
    "\n",
    "l = [2,3,5,4,1]\n",
    "again\n",
    "\n",
    "is l[3]<l[2]? -- is 4<5? -- yes\n",
    "then\n",
    "temp= .......and follow the same procedure as the begining."
   ]
  },
  {
   "cell_type": "code",
   "execution_count": 161,
   "metadata": {},
   "outputs": [
    {
     "name": "stdout",
     "output_type": "stream",
     "text": [
      "The list is sorted successfuly.\n",
      "[5, 6, 7, 8, 9, 10, 11, 12, 13, 14, 15, 16, 17, 18, 19, 20, 21, 22, 23, 24, 25, 26, 27, 28, 29, 30, 31, 32, 33, 34, 35, 36, 37, 38, 39, 40, 41, 42, 43, 44]\n"
     ]
    }
   ],
   "source": [
    "def InsertionSort(l3):\n",
    "    for x in range(1, len(l3)):\n",
    "        if(l3[x] < l3[x-1]):\n",
    "            temp = l3[x]\n",
    "            index = x\n",
    "            while(index > 0 and l3[index-1] > temp):\n",
    "                l3[index] = l3[index-1]\n",
    "                index = index - 1\n",
    "            l3[index] = temp\n",
    "    for x in range(len(l3)-1):\n",
    "        if(l3[x+1]<l3[x]):\n",
    "            print(\"the list is not sorted correctly.\")\n",
    "            return\n",
    "\n",
    "    print(\"The list is sorted successfuly.\")\n",
    "    print(l3) \n",
    "l3 = [x for x in l]\n",
    "InsertionSort(l3)"
   ]
  },
  {
   "cell_type": "markdown",
   "metadata": {},
   "source": [
    "# Selection sort"
   ]
  },
  {
   "cell_type": "code",
   "execution_count": null,
   "metadata": {},
   "outputs": [],
   "source": [
    "# Example\n",
    "l = [3,1,5,4,2]\n",
    "\n",
    "is l[0]>l[1]? -- is 3>1? -- yes\n",
    "then exchange their places\n",
    "1,3,5,4,2 - 1 is settled and focus on 3,5,4,2\n",
    "\n",
    "l = 1,3,5,4,2\n",
    "\n",
    "is 3>5? no\n",
    "is 3>4? no\n",
    "is 3>2? yes\n",
    "then exchange their places\n",
    "l = 1,2,5,4,3\n",
    "\n",
    "and so on"
   ]
  },
  {
   "cell_type": "code",
   "execution_count": 163,
   "metadata": {},
   "outputs": [
    {
     "name": "stdout",
     "output_type": "stream",
     "text": [
      "The list is sorted successfuly.\n",
      "[5, 6, 7, 8, 9, 10, 11, 12, 13, 14, 15, 16, 17, 18, 19, 20, 21, 22, 23, 24, 25, 26, 27, 28, 29, 30, 31, 32, 33, 34, 35, 36, 37, 38, 39, 40, 41, 42, 43, 44]\n"
     ]
    }
   ],
   "source": [
    "def SelectionSort(l4):\n",
    "    for x in range(len(l4)):\n",
    "        for y in range(x+1, len(l4)):\n",
    "            if(l4[x] > l4[y]):\n",
    "                l4[x], l4[y] =  l4[y], l4[x] \n",
    "\n",
    "    for x in range(len(l4)-1):\n",
    "        if(l4[x+1]<l4[x]):\n",
    "            print(\"the list is not sorted correctly.\")\n",
    "            return\n",
    "\n",
    "    print(\"The list is sorted successfuly.\")\n",
    "    print(l4) \n",
    "\n",
    "l4 = [x for x in l]\n",
    "BubbleSort(l4)\n"
   ]
  },
  {
   "cell_type": "code",
   "execution_count": null,
   "metadata": {},
   "outputs": [],
   "source": []
  },
  {
   "cell_type": "markdown",
   "metadata": {},
   "source": [
    "# Sorting base on occurrence "
   ]
  },
  {
   "cell_type": "raw",
   "metadata": {},
   "source": [
    "Example:\n",
    "2,1,3,3,4,5,7,6,6,6\n",
    "the soreted result will be 1,2,4,5,6,3,3,6,6,6"
   ]
  },
  {
   "cell_type": "code",
   "execution_count": 3,
   "metadata": {},
   "outputs": [
    {
     "name": "stdout",
     "output_type": "stream",
     "text": [
      "[0, 1, 3, 4, 4, 4, 5, 5, 6, 6, 6, 7, 7, 7, 7, 7, 7, 9, 9, 9, 99]\n",
      "{0: 1, 1: 1, 3: 1, 4: 3, 5: 2, 6: 3, 7: 6, 9: 3, 99: 1}\n",
      "[(0, 1), (1, 1), (3, 1), (99, 1), (5, 2), (4, 3), (6, 3), (9, 3), (7, 6)]\n",
      "[0, 1, 3, 99, 5, 5, 4, 4, 4, 6, 6, 6, 9, 9, 9, 7, 7, 7, 7, 7, 7]\n"
     ]
    }
   ],
   "source": [
    "import operator\n",
    "\n",
    "arr=[4,5,6,5,4,4,3,1,9,9,9,6,6,7,7,7,7,7,7,99,0]  # 3,4,4,4,5,5,6 = 3,6,4,4,4,5,5\n",
    "def customSort(arr):\n",
    "    arr.sort()\n",
    "    print(arr)\n",
    "    dic={}\n",
    "    count=1\n",
    "    # create a dictionary and count the occurrence of each value in the list.\n",
    "    for x in range(1,len(arr)):\n",
    "        if(arr[x]==arr[x-1]):\n",
    "            count = count+1\n",
    "        else:\n",
    "            dic[arr[x-1]]= count\n",
    "            count=1\n",
    "        if(x==len(arr)-1):\n",
    "            dic[arr[x]]= count\n",
    "\n",
    "    print(dic)\n",
    "\n",
    "    # sort the dictionary by its value and store all values in a list\n",
    "    dic2 = sorted(dic.items(), key=operator.itemgetter(1))\n",
    "    print(dic2)\n",
    "\n",
    "    # create 2 empty list to hold the sorted values in l2 and also transfer the values with >1 occurrence in l3\n",
    "    l2=[]\n",
    "    l3=[]\n",
    "    for y in range(len(dic2)):\n",
    "        if(dic2[y][1]==1):\n",
    "            l2.append(dic2[y][0])\n",
    "        else:\n",
    "            for z in range(dic2[y][1]):\n",
    "                l3.append(dic2[y][0])\n",
    "    l2.sort()\n",
    "    print(l2+l3)\n",
    "customSort(arr)"
   ]
  },
  {
   "cell_type": "code",
   "execution_count": null,
   "metadata": {},
   "outputs": [],
   "source": []
  }
 ],
 "metadata": {
  "kernelspec": {
   "display_name": "Python 3",
   "language": "python",
   "name": "python3"
  },
  "language_info": {
   "codemirror_mode": {
    "name": "ipython",
    "version": 3
   },
   "file_extension": ".py",
   "mimetype": "text/x-python",
   "name": "python",
   "nbconvert_exporter": "python",
   "pygments_lexer": "ipython3",
   "version": "3.6.4"
  }
 },
 "nbformat": 4,
 "nbformat_minor": 2
}
